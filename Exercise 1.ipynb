{
 "cells": [
  {
   "cell_type": "code",
   "execution_count": 7,
   "metadata": {},
   "outputs": [],
   "source": [
    "# importing math and cmath libraries for square root and complex square root functions\n",
    "import math, cmath"
   ]
  },
  {
   "cell_type": "code",
   "execution_count": 8,
   "metadata": {},
   "outputs": [],
   "source": [
    "# taking coefficients\n",
    "\n",
    "a = int(input(\"Enter coefficient of x-squared: \"))\n",
    "while a == 0:\n",
    "    print(\"Coefficient of x-squared must not be 0!\")\n",
    "    a = int(input(\"Enter coefficient of x-squared: \"))\n",
    "# the while loop above is to ensure that the value of a is never 0\n",
    "b = int(input(\"Enter coefficient of x: \"))\n",
    "c = int(input(\"Enter constant: \"))"
   ]
  },
  {
   "cell_type": "code",
   "execution_count": 9,
   "metadata": {},
   "outputs": [
    {
     "name": "stdout",
     "output_type": "stream",
     "text": [
      "Discriminant is  12\n"
     ]
    }
   ],
   "source": [
    "#calculation and display of discriminant\n",
    "discriminant = pow(b,2)-4*a*c\n",
    "print(\"Discriminant is \",discriminant)"
   ]
  },
  {
   "cell_type": "code",
   "execution_count": 10,
   "metadata": {},
   "outputs": [
    {
     "name": "stdout",
     "output_type": "stream",
     "text": [
      "Real and distinct roots.\n",
      "The roots are  2.732050807568877 , -0.7320508075688772\n"
     ]
    }
   ],
   "source": [
    "#logical statements for checking the type of discriminant and calculating the roots based on that\n",
    "if discriminant == 0:\n",
    "    root = -b/2*a\n",
    "    # if the discriminant is 0 this (-b/2*a) is what will be left of the formula\n",
    "    print(\"Repeated roots.\\nThe root is \", root)\n",
    "    print(\"\", root)\n",
    "elif discriminant > 0:\n",
    "    # the math square root functions allows us to take the square root of the discriminant\n",
    "    root1 = (-b + math.sqrt(discriminant))/2*a\n",
    "    root2 = (-b - math.sqrt(discriminant))/2*a\n",
    "    print(\"Real and distinct roots.\\nThe roots are \",(root1),\",\",(root2))\n",
    "else:\n",
    "    # the cmath square root functions allows us to take the square root of a complex discriminant\n",
    "    root1 = (-b + cmath.sqrt(discriminant))/2*a\n",
    "    root2 = (-b - cmath.sqrt(discriminant))/2*a\n",
    "    print(\"Complex roots.\\nThe roots are \",root1,\",\",root2)"
   ]
  }
 ],
 "metadata": {
  "kernelspec": {
   "display_name": "base",
   "language": "python",
   "name": "python3"
  },
  "language_info": {
   "codemirror_mode": {
    "name": "ipython",
    "version": 3
   },
   "file_extension": ".py",
   "mimetype": "text/x-python",
   "name": "python",
   "nbconvert_exporter": "python",
   "pygments_lexer": "ipython3",
   "version": "3.12.7"
  }
 },
 "nbformat": 4,
 "nbformat_minor": 2
}
